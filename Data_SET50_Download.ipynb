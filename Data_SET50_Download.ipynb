{
 "cells": [
  {
   "cell_type": "code",
   "execution_count": 5,
   "metadata": {},
   "outputs": [],
   "source": [
    "import pandas as pd\n",
    "import yfinance as yf\n",
    "import seaborn as sns\n",
    "import matplotlib.pyplot as plt\n",
    "\n",
    "%matplotlib inline \n",
    "%config InlineBackend.figure_format = 'retina'"
   ]
  },
  {
   "cell_type": "markdown",
   "metadata": {},
   "source": [
    "# Load Data \n",
    "\n",
    "## SET50 Stock List\n",
    "\n",
    "https://marketdata.set.or.th/mkt/sectorquotation.do?language=th&country=TH&market=SET&sector=SET50"
   ]
  },
  {
   "cell_type": "code",
   "execution_count": 6,
   "metadata": {},
   "outputs": [
    {
     "data": {
      "text/plain": [
       "0     ADVANC\n",
       "1        AOT\n",
       "2        AWC\n",
       "3      BANPU\n",
       "4        BBL\n",
       "5       BDMS\n",
       "6        BEM\n",
       "7      BGRIM\n",
       "8         BH\n",
       "9        BTS\n",
       "10       CBG\n",
       "11      COM7\n",
       "12     CPALL\n",
       "13       CPF\n",
       "14       CPN\n",
       "15       CRC\n",
       "16      DTAC\n",
       "17        EA\n",
       "18      EGCO\n",
       "19    GLOBAL\n",
       "20      GPSC\n",
       "21      GULF\n",
       "22     HMPRO\n",
       "23    INTUCH\n",
       "24      IRPC\n",
       "25       IVL\n",
       "26     KBANK\n",
       "27       KCE\n",
       "28       KTB\n",
       "29       KTC\n",
       "30        LH\n",
       "31      MINT\n",
       "32       MTC\n",
       "33        OR\n",
       "34       OSP\n",
       "35       PTT\n",
       "36     PTTEP\n",
       "37     PTTGC\n",
       "38     RATCH\n",
       "39     SAWAD\n",
       "40       SCB\n",
       "41       SCC\n",
       "42      SCGP\n",
       "43      STGT\n",
       "44    TIDLOR\n",
       "45     TISCO\n",
       "46       TOP\n",
       "47      TRUE\n",
       "48       TTB\n",
       "49        TU\n",
       "Name: หลักทรัพย์, dtype: object"
      ]
     },
     "execution_count": 6,
     "metadata": {},
     "output_type": "execute_result"
    }
   ],
   "source": [
    "symbollist = pd.read_html('https://marketdata.set.or.th/mkt/sectorquotation.do?language=th&country=TH&market=SET&sector=SET50')[2]\n",
    "symbollist.iloc[:,0]"
   ]
  },
  {
   "cell_type": "code",
   "execution_count": 7,
   "metadata": {},
   "outputs": [],
   "source": [
    "start = '2011-01-01'\n",
    "end   = '2020-12-31'"
   ]
  },
  {
   "cell_type": "code",
   "execution_count": 8,
   "metadata": {},
   "outputs": [
    {
     "name": "stdout",
     "output_type": "stream",
     "text": [
      "\n",
      "1 Failed download:\n",
      "- OR.BK: Data doesn't exist for startDate = 1293814800, endDate = 1609347600\n",
      "\n",
      "1 Failed download:\n",
      "- TIDLOR.BK: Data doesn't exist for startDate = 1293814800, endDate = 1609347600\n"
     ]
    }
   ],
   "source": [
    "for symbol in symbollist.iloc[:,0].values:\n",
    "    df =  yf.download(symbol+\".BK\", start = start, end= end, progress=False)\n",
    "    if symbol==\"COM7\":\n",
    "        symbol = \"COMSEVEN\"   \n",
    "    df.to_csv(f\"Data_Raw/{symbol}.csv\")   "
   ]
  },
  {
   "cell_type": "code",
   "execution_count": null,
   "metadata": {},
   "outputs": [],
   "source": []
  },
  {
   "cell_type": "code",
   "execution_count": null,
   "metadata": {},
   "outputs": [],
   "source": []
  }
 ],
 "metadata": {
  "interpreter": {
   "hash": "c5e48f84046969b800ff52f6d80523bcd1ca3fb1a99f1449e4197bf6c73dc096"
  },
  "kernelspec": {
   "display_name": "Python 3.8.5 64-bit ('base': conda)",
   "language": "python",
   "name": "python3"
  },
  "language_info": {
   "codemirror_mode": {
    "name": "ipython",
    "version": 3
   },
   "file_extension": ".py",
   "mimetype": "text/x-python",
   "name": "python",
   "nbconvert_exporter": "python",
   "pygments_lexer": "ipython3",
   "version": "3.8.5"
  },
  "orig_nbformat": 4
 },
 "nbformat": 4,
 "nbformat_minor": 2
}
